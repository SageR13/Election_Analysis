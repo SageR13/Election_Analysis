{
 "cells": [
  {
   "cell_type": "code",
   "execution_count": 26,
   "metadata": {},
   "outputs": [],
   "source": [
    "#The data we need to retreice.\n",
    "#1. The total number of votes cast\n",
    "#2. A complete list of candidates who received votes\n",
    "#3. The percentage of votes each candidate won\n",
    "#4. The toal number of votes each candidate won.\n",
    "#5. The winner of the election based on popular vote. "
   ]
  },
  {
   "cell_type": "code",
   "execution_count": 27,
   "metadata": {},
   "outputs": [
    {
     "name": "stdout",
     "output_type": "stream",
     "text": [
      "this is the current directory -/Users/sageellenrebello/Documents/Python/Rutgers/Section_3/Election_Analysis-\n",
      "Resources/election_results.csv\n"
     ]
    }
   ],
   "source": [
    "# Assign a variable for the file to load and the path.\n",
    "import os\n",
    "cdd=os.curdir\n",
    "cwd=os.getcwd()\n",
    "print(f\"this is the current directory -{cwd}-\")\n",
    "os.chdir(cwd)\n",
    "file_to_load = 'Resources/election_results.csv'\n",
    "print(file_to_load)"
   ]
  },
  {
   "cell_type": "code",
   "execution_count": 28,
   "metadata": {},
   "outputs": [
    {
     "name": "stdout",
     "output_type": "stream",
     "text": [
      "<_io.TextIOWrapper name='Resources/election_results.csv' mode='r' encoding='UTF-8'>\n"
     ]
    }
   ],
   "source": [
    "# Open the election results and read the file.\n",
    "election_data = open(file_to_load, 'r')\n",
    "print(election_data)\n",
    "# To do: perform analysis.\n",
    "\n",
    "# Close the file.\n",
    "election_data.close()"
   ]
  },
  {
   "cell_type": "code",
   "execution_count": 29,
   "metadata": {},
   "outputs": [
    {
     "data": {
      "text/plain": [
       "<_io.TextIOWrapper name='analysis/election_analysis.txt' mode='w' encoding='UTF-8'>"
      ]
     },
     "execution_count": 29,
     "metadata": {},
     "output_type": "execute_result"
    }
   ],
   "source": [
    "# Create a filename variable to a direct or indirect path to the file.\n",
    "file_to_save = os.path.join(\"analysis\", \"election_analysis.txt\")\n",
    "# Using the open() function with the \"w\" mode we will write data to the file.\n",
    "open(file_to_save, \"w\")"
   ]
  },
  {
   "cell_type": "code",
   "execution_count": 30,
   "metadata": {},
   "outputs": [
    {
     "data": {
      "text/plain": [
       "11"
      ]
     },
     "execution_count": 30,
     "metadata": {},
     "output_type": "execute_result"
    }
   ],
   "source": [
    "# Create a filename variable to a direct or indirect path to the file.\n",
    "file_to_save = os.path.join(\"analysis\", \"election_analysis.txt\")\n",
    "\n",
    "# Use the open statement to open the file as a text file.\n",
    "outfile = open(file_to_save, \"w\")\n",
    "# Write some data to the file.\n",
    "outfile.write(\"Hello World\")\n",
    "\n",
    "# Close the file\n",
    "#outfile.close()"
   ]
  },
  {
   "cell_type": "code",
   "execution_count": 37,
   "metadata": {},
   "outputs": [],
   "source": [
    "# Create a filename variable to a direct or indirect path to the file.\n",
    "file_to_save = os.path.join(\"analysis\", \"election_analysis.txt\")\n",
    "\n",
    "# Using the with statement open the file as a text file.\n",
    "with open(file_to_save, \"w\") as txt_file:\n",
    "\n",
    "    # Write some data to the file.\n",
    "    # Write three counties to the file.\n",
    "     txt_file.write(\"Counties in the Election\\n-------------------------\\nArapahoe\\nDenver\\nJefferson\")"
   ]
  },
  {
   "cell_type": "code",
   "execution_count": 52,
   "metadata": {},
   "outputs": [
    {
     "name": "stdout",
     "output_type": "stream",
     "text": [
      "['Ballot ID', 'County', 'Candidate']\n"
     ]
    }
   ],
   "source": [
    "# Add our dependencies.\n",
    "import csv\n",
    "import os\n",
    "# Assign a variable to load a file from a path.\n",
    "file_to_load = os.path.join(\"Resources\", \"election_results.csv\")\n",
    "# Assign a variable to save the file to a path.\n",
    "file_to_save = os.path.join(\"analysis\", \"election_analysis.txt\")\n",
    "\n",
    "# Open the election results and read the file.\n",
    "with open(file_to_load) as election_data:\n",
    "    # Read the file object with the reader function.\n",
    "    file_reader = csv.reader(election_data)\n",
    "    # To do: read and analyze the data here.\n",
    "     # Print each row in the CSV file.\n",
    "    #for row in file_reader:\n",
    "     #   print(row)\n",
    "     # Read the file object with the reader function.\n",
    "    \n",
    "    # Print the header row.\n",
    "    headers = next(file_reader)\n",
    "    print(headers)"
   ]
  }
 ],
 "metadata": {
  "interpreter": {
   "hash": "7e1998ff7f8aa20ada591c520b972326324e5ea05489af9e422744c7c09f6dad"
  },
  "kernelspec": {
   "display_name": "Python 3.10.1 64-bit",
   "language": "python",
   "name": "python3"
  },
  "language_info": {
   "codemirror_mode": {
    "name": "ipython",
    "version": 3
   },
   "file_extension": ".py",
   "mimetype": "text/x-python",
   "name": "python",
   "nbconvert_exporter": "python",
   "pygments_lexer": "ipython3",
   "version": "3.10.1"
  },
  "orig_nbformat": 4
 },
 "nbformat": 4,
 "nbformat_minor": 2
}
